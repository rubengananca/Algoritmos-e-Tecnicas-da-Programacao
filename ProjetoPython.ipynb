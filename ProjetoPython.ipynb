{
 "cells": [
  {
   "cell_type": "markdown",
   "metadata": {},
   "source": [
    "# __Trabalho FINAL (ATP 2021)__"
   ]
  },
  {
   "cell_type": "code",
   "execution_count": 1,
   "metadata": {},
   "outputs": [],
   "source": [
    "#Função que cria um registo na bd, com os campos #title\",\"year\",\"cast\",\"genres\",\"id\"\n",
    "def criarRegisto(t, y, c, g,i):\n",
    "    return {\n",
    "        'title': t,\n",
    "        'year': y, \n",
    "        'cast': c, \n",
    "        'genres': g, \n",
    "        'id': i\n",
    "    }"
   ]
  },
  {
   "cell_type": "code",
   "execution_count": 2,
   "metadata": {},
   "outputs": [],
   "source": [
    "import json \n",
    "#Função com o objetivo de ler o ficheiro em json e adicionar cada um dos elementos (no caso filmes) a uma lista\n",
    "def lerDataset(fnome):  \n",
    "    f = open(fnome, encoding=\"utf-8\") #Abre o ficheiro json\n",
    "    bd = json.load(f) #Retorna o ficheiro json como um dicionário\n",
    "    i=0\n",
    "    for e in bd: #Para cada filme adiciona um índice\n",
    "        e[\"id\"]=\"e\"+str(i)\n",
    "        i+=1\n",
    "    return bd\n",
    "\n",
    "Filmes = [] #Lista de dicionários em que cada dicionário corresponde a um filme do ficheiro json com a diretoria: \"../Projeto Final/cinemaATP.json\"\n",
    "Filmes = lerDataset(\"../Projeto Final/cinemaATP.json\")\n",
    "\n"
   ]
  },
  {
   "cell_type": "code",
   "execution_count": 3,
   "metadata": {},
   "outputs": [],
   "source": [
    "def gravarBD(bd,fnome): #O JSON permite guardar dados com qualquer tipo de dimensões (a nossa bd tem 5 dimensões)\n",
    "    f=open(fnome,\"w\",encoding=\"utf-8\") #Vai abrir e escrever no ficheiro\n",
    "    json.dump(bd,f) #Para escrever no ficheiro json\n",
    "    f.close()\n",
    "    return\n",
    "    "
   ]
  },
  {
   "cell_type": "code",
   "execution_count": 4,
   "metadata": {},
   "outputs": [],
   "source": [
    "gravarBD(Filmes,\"../Projeto Final/cinemaATP.json\") #Atualizar o dataset"
   ]
  },
  {
   "cell_type": "code",
   "execution_count": 5,
   "metadata": {},
   "outputs": [],
   "source": [
    "def carregarBD(fnome): #Output da informação processada pela função gravarBD\n",
    "    f=open(fnome,\"r\",encoding=\"utf-8\")#Ler o ficheiro \n",
    "    bd=json.load(f) #Para carregar o ficheiro json\n",
    "    return bd\n",
    "Filmes=carregarBD(\"../Projeto Final/cinemaATP.json\")"
   ]
  },
  {
   "cell_type": "code",
   "execution_count": 6,
   "metadata": {},
   "outputs": [],
   "source": [
    "def inserirReg(bd, reg): #Vai inserir um novo filme na bd\n",
    "    bd.append(reg) #Fazer um append do novo filme na bd\n",
    "    return bd"
   ]
  },
  {
   "cell_type": "code",
   "execution_count": 7,
   "metadata": {},
   "outputs": [],
   "source": [
    "def extraiCast(lcast): #Limpar e processar a informação\n",
    "    res=\"\" #Separador\n",
    "    i=1 \n",
    "    for ator in lcast: #Para cada ator do filme, entre eles acrescentamos um \";\" e um espaço\n",
    "        res= res + ator\n",
    "        if (i<len(lcast)):\n",
    "            res=res+\" ; \"            \n",
    "        i+=1\n",
    "    return res    \n",
    "\n",
    "def extraiGenre(lgenre): #Faz o mesmo processamento de informação que o \"extraiCast\", mas para os géneros\n",
    "    res2=\"\"\n",
    "    i=1 \n",
    "    for genero in lgenre:\n",
    "        res2= res2 + genero\n",
    "        if (i<len(lgenre)):\n",
    "            res2=res2+\" ; \"            \n",
    "        i+=1\n",
    "    return res2    \n",
    "   \n",
    "\n",
    "def guardarBD(bd, fnome):\n",
    "    sep= \"::\"  #Separador\n",
    "    sepFilme=\"\\n\" #Vai pôr um filme por linha\n",
    "    f=open(fnome,\"w\", encoding=\"utf-8\") #Abre o ficheiro em modo escrita\n",
    "    for filme in bd: #Modo como a informação vai ser guardada\n",
    "        #ID-... :: Title-... :: Year-... :: Cast- ... ; ... (consoante o processamento definido na função extraiCast) :: Genres-... ; ... (consoante o processamento definido na função extraiGenres) (passa para a linha seguinte)\n",
    "        f.write(\"ID- \"+filme[\"id\"]+sep+\"Title- \"+filme[\"title\"]+sep+\"Year- \"+str(filme['year'])+sep+\"Cast- \"+extraiCast(filme['cast'])+sep+\"Genres- \"+extraiGenre(filme[\"genres\"])+sepFilme)\n",
    "    f.close() #Termina a leitura do ficheiro\n",
    "    return\n",
    "\n",
    "    \n",
    "    \n",
    "    \n",
    "    "
   ]
  },
  {
   "cell_type": "code",
   "execution_count": 8,
   "metadata": {},
   "outputs": [],
   "source": [
    "guardarBD(Filmes,\"ListaFilmes.txt\")"
   ]
  },
  {
   "cell_type": "code",
   "execution_count": 9,
   "metadata": {},
   "outputs": [],
   "source": [
    "    \n",
    "def consultarNome(bd,title): #Função que consulta na bd o filme pelo Título\n",
    "    ltitles=[] #Lista vazia aonde vão ser adicionados todos os títulos de filmes com a palavra procurada ou o título completo\n",
    "    for e in bd: #Percorre cada filme da bd para adicionar à lista\n",
    "        palavras=e[\"title\"].split() # serve para separar cada palavra do titulo\n",
    "        encontrado=False \n",
    "        for i in range (len(palavras)): #percorre cada palavra do titulo \n",
    "            #1ªcondição: procurar uma palavra do título; 2ªcondição: procurar o título completo\n",
    "            if ((palavras[i].lower()==title.lower()) or (e[\"title\"].lower()==title.lower() and encontrado== False)):   # se encontrar a palavra escolhida num título da bd pára ou então se encontrar o título pretendido na BD \n",
    "                ltitles.append(e[\"title\"]) # mostra todos os titulos que contenham essa palavra \n",
    "                ltitles.append(e[\"genres\"]) # e os seus generos correspondentes\n",
    "                encontrado= True #pára a procura do filme uma vez já foi encontrado\n",
    "    \n",
    "    return ltitles\n",
    "                "
   ]
  },
  {
   "cell_type": "code",
   "execution_count": 10,
   "metadata": {},
   "outputs": [],
   "source": [
    "def consultarID(bd,id): # função que nos permite consultar os filmes da bd por id\n",
    "    lid=[]   # lista vazia  onde vão ser adicionado o filme e o genero correspondente a esse id\n",
    "    for e in bd:\n",
    "        if(e[\"id\"]==id):\n",
    "             lid.append(e[\"title\"])\n",
    "             lid.append(e[\"genres\"])\n",
    "    return (lid)\n",
    "    "
   ]
  },
  {
   "cell_type": "code",
   "execution_count": 11,
   "metadata": {},
   "outputs": [],
   "source": [
    "def ordenarNome(bd): #Retorna a bd ordenada por ordem alfabética relativamente ao título\n",
    "    return(sorted(bd,key=lambda entrada:entrada[\"title\"])) "
   ]
  },
  {
   "cell_type": "code",
   "execution_count": 12,
   "metadata": {},
   "outputs": [],
   "source": [
    " def calcEntradas(bd):  # função que contem o conteudo da listbox correspondente ao botão \"carregar\"\n",
    "    lista=[]  # lista vazia onde vai ser adicionado o titulo, o genero, e o cast\n",
    "    for e in bd:  # ciclo que percorre cada filme da bd \n",
    "        lista.append(\"Title: \"+e[\"title\"]+\";\") \n",
    "        strGenre=\" | \".join(e[\"genres\"]) # transforma a lista genero numa string e cada elemento dessa lista é separado por \"|\"\n",
    "        lista.append(\"Genres: \"+strGenre)\n",
    "        strCast= \"; \".join(e[\"cast\"])\n",
    "        lista.append(\"Cast: \"+strCast) #mesmo raciocinio do genero\n",
    "        lista.append(\"--//--\") # serve para separar os filmes\n",
    "    return lista\n"
   ]
  },
  {
   "cell_type": "code",
   "execution_count": 13,
   "metadata": {},
   "outputs": [],
   "source": [
    "def calcListaGenres(bd): #Função que retorna uma lista com todos os géneros de filmes na BD\n",
    "    listGen=[]\n",
    "    for e in bd:\n",
    "        for g in e[\"genres\"]: #Vai percorrer cada género que existe no campo dos genres e se ele não existir na listGen vai adicioná-lo\n",
    "            if g.lower() not in listGen:\n",
    "                listGen.append(g.lower())\n",
    "    listGen.sort() #Vai ordenar os géneros por ordem alfabética\n",
    "    return listGen\n",
    "\n",
    "def calcListaFilmes(bd,g): #Função que retorna uma lista de todos os filmes de um dado género\n",
    "    listFilmes=[]\n",
    "    listaGeneros=calcListaGenres(bd)\n",
    "    for e in bd:\n",
    "        if ((g in listaGeneros) and (g.lower() in str(e[\"genres\"]).lower())): #Vai percorrer o campo \"genres\" e adicionar os filmes que sejam desse género\n",
    "            listFilmes.append(e[\"title\"])\n",
    "    return listFilmes\n",
    "\n",
    "def ordenarGenres(bd,g): #Função que retorna uma lista de um dicionario com todos os filmes de um determinado género\n",
    "    ordemGenre=[]\n",
    "    listaGeneros=calcListaGenres(bd) #lista composta por todos os géneros\n",
    "    for genre in listaGeneros:# Para cada género existente na listaGeneros, se o género pretendido corresponder a algum existente na listaGeneros,vai nos ser dado um output de uma lista \"ordemGenres\"  de um dicionário que contenha o género e todos os filmes correspondentes ao mesmo \n",
    "        if(g.lower()==genre):\n",
    "            ordemGenre.append({\"Genre\":g,\"Filmes\":calcListaFilmes(bd,g.lower())})\n",
    "    return ordemGenre\n",
    "\n",
    "\n"
   ]
  },
  {
   "cell_type": "code",
   "execution_count": 14,
   "metadata": {},
   "outputs": [],
   "source": [
    "def numGeneros(bd): #Função que retorna o nº de filmes que cada género tem\n",
    "    listageneros=[]\n",
    "    listGen=calcListaGenres(bd) #lista composta por todos os géneros\n",
    "    for g in listGen: #Vai percorrer cada género da lista\n",
    "        listageneros.append((g,len(calcListaFilmes(bd,g)))) #Vai ser adicionado à lista tuplos que têm um par:(género,nºde filmes correspondente ao género) \n",
    "    return listageneros"
   ]
  },
  {
   "cell_type": "code",
   "execution_count": 15,
   "metadata": {},
   "outputs": [],
   "source": [
    "ListGen=numGeneros(Filmes)"
   ]
  },
  {
   "cell_type": "code",
   "execution_count": 16,
   "metadata": {},
   "outputs": [],
   "source": [
    "def calcListaCast(bd):#Função que retorna uma lista com todos os atores existentes na BD\n",
    "    listCas=[]\n",
    "    for e in bd:\n",
    "        for a in e[\"cast\"]:#Vai percorrer cada ator que existe no campo cast e se ele não existir na listCas vai adicioná-lo\n",
    "            if a.lower() not in listCas:\n",
    "                listCas.append(a.lower())\n",
    "    listCas.sort()\n",
    "    return listCas\n",
    "\n",
    "def calcListaFilmes2(bd,a): #Função que retorna uma lista de todos os filmes de um dado ator\n",
    "    listFilmes2=[]\n",
    "    listCas=calcListaCast(bd)\n",
    "    for e in bd:\n",
    "        if ((a in listCas) and (a.lower() in str(e[\"cast\"]).lower())): #Vai percorrer o campo \"cast\" e adicionar os filmes que sejam desse ator\n",
    "            listFilmes2.append(e[\"title\"])\n",
    "    return listFilmes2\n",
    "\n",
    "def ordenarCas(bd,a): #Função que retorna uma lista de um dicionario com todos os filmes de um determinado ator\n",
    "    ordemCast=[]\n",
    "    listaCast=calcListaCast(bd)\n",
    "    for ator in listaCast:\n",
    "        if(a.lower()==ator):\n",
    "            ordemCast.append({\"Cast\":a,\"Filmes\":calcListaFilmes2(bd,a.lower())})\n",
    "    return ordemCast\n",
    "\n",
    "\n"
   ]
  },
  {
   "cell_type": "code",
   "execution_count": 17,
   "metadata": {},
   "outputs": [],
   "source": [
    "def cast(bd):#Função que retorna uma lista com todos os atores existentes na BD\n",
    "    listCas=[]\n",
    "    for e in bd:\n",
    "        for a in e[\"cast\"]:#Vai percorrer cada ator que existe no campo cast e se ele não existir na listCas vai adicioná-lo\n",
    "            if a not in listCas:\n",
    "                listCas.append(a)\n",
    "    listCas.sort()\n",
    "    return listCas\n",
    "                \n",
    "def cast2(bd,a):\n",
    "    listFilmes2=[]\n",
    "    for e in bd:\n",
    "        if (a in e[\"cast\"]): #Vai percorrer o campo \"cast\" e adicionar os filmes que sejam desse ator\n",
    "            listFilmes2.append(e[\"title\"])\n",
    "    return(listFilmes2)\n"
   ]
  },
  {
   "cell_type": "code",
   "execution_count": 18,
   "metadata": {},
   "outputs": [],
   "source": [
    "listcast=cast(Filmes)"
   ]
  },
  {
   "cell_type": "code",
   "execution_count": 19,
   "metadata": {},
   "outputs": [],
   "source": [
    "def top10atores(bd): #Função que retorna os 10 atores com mais filmes!\n",
    "    atorfilmes=[]\n",
    "    top10=[]\n",
    "    #lista com todos os atores na bd\n",
    "    for a in listcast:\n",
    "        #Como existia no campo \"cast\", atores com o nome \"and\", fizemos com que o nosso ciclo for apenas corresse com nome diferente deste\n",
    "        if(a!=\"and\"): #pois existe em vários filmes \"and\" que torna errado o top10 de atores com mais filmes\n",
    "            atorfilmes.append((a,len(cast2(bd,a))))\n",
    "            atorfilmes.sort(key=lambda entrada:entrada[1]) #lista ordenada por número de filmes e reverse para ficar na ordem decrescente\n",
    "            atorfilmes.reverse()\n",
    "\n",
    "    n=0\n",
    "    while(n<10): #Vai fazer append na lista top10 dos 10 primeiros atores da lista atorfilmes \n",
    "        top10.append(atorfilmes[n]) \n",
    "        n+=1\n",
    "    return(top10)"
   ]
  },
  {
   "cell_type": "code",
   "execution_count": 20,
   "metadata": {},
   "outputs": [],
   "source": [
    "Top10=top10atores(Filmes)"
   ]
  },
  {
   "cell_type": "code",
   "execution_count": 21,
   "metadata": {},
   "outputs": [
    {
     "data": {
      "image/png": "[encoded data removed]",
      "text/plain": [
       "<Figure size 432x288 with 1 Axes>"
      ]
     },
     "metadata": {
      "needs_background": "light"
     },
     "output_type": "display_data"
    }
   ],
   "source": [
    "import matplotlib.pyplot as plt\n",
    "\n",
    "def plottop10atores(top): #Função que faz o gráfico dos 10 atores com mais filmes na BD\n",
    "    atores=[]\n",
    "    nfilmes=[]\n",
    "    for i in range (len(top)): #Vai percorrer cada tuplo da lista top10 e vai separar os atores e o seu nº de filmes\n",
    "        atores.append(top[i][0])\n",
    "        nfilmes.append(top[i][1])\n",
    "    plt.bar(atores,nfilmes,color=['red', 'orange', 'gold','yellow'])\n",
    "    plt.xlabel(\"Atores\")\n",
    "    plt.ylabel(\"Nº de filmes\")\n",
    "    plt.title(\"Top 10 de atores com mais filmes:\")\n",
    "    plt.xticks(rotation=90)\n",
    "    plt.savefig(\"plotatores.png\",dpi=180,bbox_inches=\"tight\") #Guarda o gráfico numa imagem png\n",
    "    plt.show()\n",
    "plottop10atores(Top10)"
   ]
  },
  {
   "cell_type": "code",
   "execution_count": 22,
   "metadata": {},
   "outputs": [
    {
     "data": {
      "image/png": "[encoded data removed]",
      "text/plain": [
       "<Figure size 432x288 with 1 Axes>"
      ]
     },
     "metadata": {
      "needs_background": "light"
     },
     "output_type": "display_data"
    }
   ],
   "source": [
    "from PIL import Image\n",
    "def ima2(): #Função que cria uma janela com a imagem\n",
    "    plottop10atores(Top10)\n",
    "    im = Image.open(\"plotatores.png\")\n",
    "    im.show()\n",
    "ima2()"
   ]
  },
  {
   "cell_type": "code",
   "execution_count": 23,
   "metadata": {},
   "outputs": [
    {
     "data": {
      "image/png": "[encoded data removed]",
      "text/plain": [
       "<Figure size 432x288 with 1 Axes>"
      ]
     },
     "metadata": {
      "needs_background": "light"
     },
     "output_type": "display_data"
    }
   ],
   "source": [
    "import matplotlib.pyplot as plt\n",
    "\n",
    "def plotgeneros(gen):#Função que faz o gráfico do nº de filmes em função do nº de géneros.\n",
    "    generos=[]\n",
    "    nfilmes=[]\n",
    "    for i in range (len(gen)): #Vai percorrer cada tuplo da lista gen e vai separar os géneros e o seu nº de filmes\n",
    "        generos.append(gen[i][0])\n",
    "        nfilmes.append(gen[i][1])\n",
    "    \n",
    "    plt.bar(generos,nfilmes,color=[\"darkblue\",'dodgerblue','deepskyblue','lightskyblue'])\n",
    "    plt.xlabel(\"Generos\")\n",
    "    plt.ylabel(\"Nº de filmes\")\n",
    "    plt.title(\"Distribuição de filmes por Género:\")\n",
    "    plt.xticks(rotation=90)\n",
    "    plt.savefig(\"plot.png\",dpi=180,bbox_inches=\"tight\")\n",
    "    plt.show()\n",
    "plotgeneros(ListGen)"
   ]
  },
  {
   "cell_type": "code",
   "execution_count": 24,
   "metadata": {},
   "outputs": [
    {
     "data": {
      "image/png": "[encoded data removed]",
      "text/plain": [
       "<Figure size 432x288 with 1 Axes>"
      ]
     },
     "metadata": {
      "needs_background": "light"
     },
     "output_type": "display_data"
    }
   ],
   "source": [
    "from PIL import Image\n",
    "def ima():\n",
    "    #read the image\n",
    "    plotgeneros(ListGen)\n",
    "    im = Image.open(\"plot.png\")\n",
    "\n",
    "    #show image\n",
    "    im.show()\n",
    "ima()"
   ]
  },
  {
   "cell_type": "code",
   "execution_count": 43,
   "metadata": {},
   "outputs": [],
   "source": [
    "import PySimpleGUI as sg\n",
    "\n",
    "sg.SetOptions(background_color='#9FB8AD',\n",
    "       text_element_background_color='#9FB8AD',\n",
    "       element_background_color='#9FB8AD',\n",
    "       scrollbar_color=None,\n",
    "       input_elements_background_color='#F7F3EC',\n",
    "       progress_meter_color = ('green', 'blue'),\n",
    "       button_color=('white','#475841'))\n",
    "\n",
    "Myfilms=[]\n",
    "\n",
    "menu_list_column = [[sg.Text(\"   BiblioFilmes!\")], [sg.Text(\" \")],\n",
    "    [sg.Button(\"Limpar\",size=(11,0))],\n",
    "    [sg.Button(\"Carregar\",size=(11,0))],\n",
    "    [sg.Button(\"Gravar\",size=(11,0))],\n",
    "    [sg.Button(\"Inserir\",size=(11,0))],\n",
    "    [sg.Button(\"Consultar\",size=(11,0))],\n",
    "    [sg.Button(\"Listar\",size=(11,0))], \n",
    "    [sg.Button(\"Estatística\",size=(11,0))],\n",
    "    [sg.Button(\"Sair\",button_color=(\"white\",\"firebrick4\"),size=(11,0))]\n",
    "]\n",
    "\n",
    "entradas=[\"\",\" \",\" \",\" \", \" \",\" \",\" \", \" \",\" \",'''\n",
    "       \n",
    "       \n",
    "       Bem-Vindo à BiblioFilmes!''']\n",
    "data_viewer_column = [\n",
    "   [sg.Listbox(values = entradas, size=(40, 20), key=\"_entradas\")]\n",
    "     \n",
    "]\n",
    "\n",
    "\n",
    "interfacePrincipal = [\n",
    "    [\n",
    "        sg.Column(menu_list_column),\n",
    "        sg.VSeperator(), #Cria um separador vertical\n",
    "        sg.Column(data_viewer_column),      \n",
    "    ]\n",
    "]\n",
    "\n",
    "window = sg.Window(\"BiblioFilmes\", font=\"Helvetiva 24\", \n",
    "                    default_element_size=(20,1)).Layout(interfacePrincipal)\n",
    "\n",
    "#Percorre este ciclo e várias ações consecutivamente até carregar no botão \"Sair\"\n",
    "stop=False\n",
    "while not stop: \n",
    "    event, values = window.read()\n",
    "    if event == \"Sair\" or event == sg.WIN_CLOSED:\n",
    "        stop = True\n",
    "\n",
    "    #Vamos fazer um pop up com duas opções\n",
    "    elif event==\"Consultar\": \n",
    "        \n",
    "        interfaceCons= [[sg.Button(\"Consultar por Título\"), sg.Button(\"Consultar por ID\")]]\n",
    "        windowCons=sg.Window(\"Consultar\",interfaceCons)\n",
    "        escolha2, valores2= windowCons.read(close=True)\n",
    "        \n",
    "        if escolha2==\"Consultar por Título\": \n",
    "            #Quando for escolhido consultar por título, aparece uma janela aonde o utilizador indica o nome do filme que quer consultar  \n",
    "            entradas=[\"Quero consultar um filme\"]\n",
    "            window.find_element(\"_entradas\").Update(values=entradas)\n",
    "            formLayout = [[sg.Text('Que filme deseja consultar? ')],\n",
    "              [sg.Text('Título', size=(20, 1)), sg.InputText(key='-TIT-')],\n",
    "              [sg.Button('Consultar'), sg.Button('Cancelar')]]\n",
    "\n",
    "            wform = sg.Window('Consulta de um Filme', formLayout)\n",
    "            inputEvent,inputValues=wform.read(close=True)\n",
    "            wform.close()\n",
    "            \n",
    "            if inputEvent==\"Consultar\":\n",
    "                filmes=consultarNome(Myfilms,inputValues[\"-TIT-\"]) \n",
    "                #filmes vai ser uma lista de todos os filmes da consulta feita pelo utilizador\n",
    "                entradas = []\n",
    "                if len(filmes)==0: \n",
    "                    #Se não existirem filmes com o nome, ou com alguma palavra, igual à que foi pedida para ser consultada\n",
    "                    entradas.append(\"Não existe esse filme na sua biblioteca!\")\n",
    "                else: \n",
    "                    #Caso contrário vai acrescentar à lista entradas o(s) filme(s) que cumpram com a consulta pedida e expô-lo(s) na interface\n",
    "                    entradas.append(\"filmes: \")\n",
    "                    for filme in filmes:\n",
    "                        entradas.append(str(filme))\n",
    "\n",
    "                window.find_element(\"_entradas\").Update(values=entradas)\n",
    "            \n",
    "            \n",
    "            \n",
    "        if escolha2==\"Consultar por ID\":\n",
    "            #Quando for escolhido consultar por ID, aparece uma janela onde o utilizador indica o ID do filme que quer consultar\n",
    "            entradas=[\"Quero consultar um filme\"]\n",
    "            window.find_element(\"_entradas\").Update(values=entradas)\n",
    "            formLayout = [[sg.Text('Que filme deseja consultar? ')],\n",
    "              [sg.Text('ID (Coloque um \"e\" antes do número)', size=(20, 3)), sg.InputText(key='-ID-')],\n",
    "              [sg.Button('Consultar'), sg.Button('Cancelar')]]\n",
    "\n",
    "            wform = sg.Window('Consulta de um Filme', formLayout)\n",
    "            inputEvent,inputValues=wform.read(close=True)\n",
    "            wform.close()\n",
    "            \n",
    "            if inputEvent==\"Consultar\":\n",
    "                ids=consultarID(Myfilms,inputValues[\"-ID-\"]) #ids vai ser uma lista com o filme que tem o id pedido pelo utilizador\n",
    "                entradas = []\n",
    "                if len(ids)==0: #Corre quando não existir na BD um filme com o ID pedido\n",
    "                    entradas.append(\"Não existe esse filme na sua biblioteca!\")\n",
    "                else: #Caso contrário vai acrescentar à lista entradas o filme que corresponda ao ID pedido para consulta pelo utilizador\n",
    "                    entradas.append(\"filme: \")\n",
    "                    entradas.append(str(ids[0]))\n",
    "                    entradas.append(str(ids[1]))\n",
    "\n",
    "                window.find_element(\"_entradas\").Update(values=entradas)\n",
    "   \n",
    "        \n",
    "    elif event == \"Limpar\":\n",
    "        #Limpa a base de dados\n",
    "        Myfilms.clear()\n",
    "        entradas=[\"A sua lista de filmes foi apagada!\"]\n",
    "        window.find_element(\"_entradas\").Update(values = entradas) \n",
    "    \n",
    "    elif event == \"Carregar\":  \n",
    "        #Carrega os filmes da BD para a interface com o tratamento definido na função calcEntradas\n",
    "        Myfilms=carregarBD(\"../Projeto Final/cinemaATP.json\")\n",
    "        entradas=calcEntradas(Myfilms)\n",
    "        window.find_element(\"_entradas\").Update(values = entradas)\n",
    "        \n",
    "    elif event == \"Gravar\":  \n",
    "        #Grava as alterações feitas na BD\n",
    "        gravarBD(Myfilms,\"../Projeto Final/cinemaATP.json\")\n",
    "        guardarBD(Myfilms,\"ListaFilmes.txt\")\n",
    "        \n",
    "        \n",
    "    elif event==\"Inserir\":\n",
    "        #Insere um novo registo na BD\n",
    "        #Abre uma nova janela que pede as informações necessárias para a inserção de um novo registo\n",
    "        entradas=[\"Quero inserir um filme\"]\n",
    "        window.find_element(\"_entradas\").Update(values=entradas)\n",
    "        formLayout = [[sg.Text('Que filme deseja inserir? ')],\n",
    "              [sg.Text('Título', size=(20, 1)), sg.InputText(key='-TITLE-')],\n",
    "              [sg.Text(\"Ano\", size=(20, 1)), sg.InputText(key='-YEAR-')],\n",
    "              [sg.Text(\"Elenco (Use como separador o ';')\", size=(20, 3)), sg.InputText(key='-CAST-')],\n",
    "              [sg.Text(\"Géneros (Use como separador o ';')\", size=(20, 3)), sg.InputText(key='-GENRES-')],\n",
    "              [sg.Button('Inserir'), sg.Button('Cancelar')]]\n",
    "\n",
    "        wform = sg.Window('Inserção de um Filme', formLayout)\n",
    "        inputEvent,inputValues=wform.read(close=True)\n",
    "        wform.close()\n",
    "        \n",
    "        #Verifica se existe algum filme com o mesmo título na BD \n",
    "        #filmeinserido=inputValues[\"-TITLE-\"]\n",
    "        filmes=consultarNome(Myfilms,inputValues[\"-TITLE-\"])\n",
    "        if len(filmes)==0: #Quando um filme não existe na BD, para o conseguirmos comparar com os restantes e verificar que realmente não existe, temos de o substituir por \"\", correndo assim o ciclo.\n",
    "            filmes=[\"\"]\n",
    "        entradas=[]\n",
    "        inserido=False\n",
    "        for i in range (len(filmes)):\n",
    "            if ((filmes[i]!=inputValues[\"-TITLE-\"]) and inserido==False): \n",
    "                #Se não existir, o filme que o utilizador pediu vai ser inserido na BD\n",
    "                reg=criarRegisto(inputValues[\"-TITLE-\"],inputValues[\"-YEAR-\"],inputValues[\"-CAST-\"].split(\";\"),inputValues[\"-GENRES-\"].split(\";\"),\"e\"+str(len(Myfilms)+1))\n",
    "                Myfilms=inserirReg(Myfilms,reg)\n",
    "                entradas=calcEntradas(Myfilms)\n",
    "                inserido=True\n",
    "    \n",
    "            elif(filmes[i]==inputValues[\"-TITLE-\"]): \n",
    "                #Caso contrário, o filme não vai ser adicionado pois já existe\n",
    "                entradas.append(\"Esse filme já existe na biblioteca!\")\n",
    "            i+=2 #para comparar apenas o título dos filmes \n",
    "        window.find_element(\"_entradas\").Update(values=entradas)\n",
    "                \n",
    "            \n",
    "    elif event== \"Listar\":\n",
    "        #Vai Listar os filmes por:título, género, ator;  Consoante a escolha do utilizador\n",
    "        interfaceLis= [[sg.Button(\"Listar por Título\"), sg.Button(\"Listar por Género\"),sg.Button(\"Listar por Ator\")]]\n",
    "        windowLis=sg.Window(\"Listar\", interfaceLis)\n",
    "        escolha3, valores3= windowLis.read(close=True)\n",
    "        \n",
    "        if escolha3==\"Listar por Título\":\n",
    "            #Vai ordenar por ordem alfabética os título dos filmes da BD\n",
    "            Myfilms=ordenarNome(Myfilms)\n",
    "            entradas=calcEntradas(Myfilms)\n",
    "            window.find_element(\"_entradas\").Update(values=entradas)\n",
    "            \n",
    "            \n",
    "        elif escolha3==\"Listar por Género\":\n",
    "            #De acordo com o género escolhido,vão ser listados todos os filmes desse género\n",
    "            \n",
    "            entradas=[\"Quero a lista de filmes do género: \"]\n",
    "            window.find_element(\"_entradas\").Update(values=entradas)\n",
    "            formLayout = [[sg.Text('Que género deseja listar? ')],\n",
    "              [sg.Text(\"Genre: \", size=(20, 1)), sg.InputText(key='-GEN-')],\n",
    "              [sg.Button('Listar'), sg.Button('Cancelar')]]\n",
    "\n",
    "            wform = sg.Window('Listar por Género', formLayout)\n",
    "            inputEvent,inputValues=wform.read(close=True)\n",
    "            wform.close()\n",
    "            \n",
    "            #Vão ser adicionados à lista Mygenre todos os filmes do género pretendido pelo utilizador\n",
    "            Mygenre=[]\n",
    "            Mygenre=ordenarGenres(Myfilms,str(inputValues[\"-GEN-\"]))\n",
    "            if len(Mygenre)==0:\n",
    "                #Caso não existam nenhum filme do género\n",
    "                entradas.append(\"Não existem filmes deste género na biblioteca!\")\n",
    "                window.find_element(\"_entradas\").Update(values=entradas)\n",
    "            else:\n",
    "                #Caso hajam, os filmes serão listados por ordem alfabética\n",
    "                entradas=Mygenre[0][\"Filmes\"]\n",
    "                window.find_element(\"_entradas\").Update(values=entradas)\n",
    "            \n",
    "            \n",
    "            \n",
    "        elif escolha3==\"Listar por Ator\":\n",
    "            \n",
    "            #De acordo com o/a ator/atriz escolhido/a,vão ser listados todos os filmes desse ator/atriz\n",
    "            entradas=[\"Quero a lista de filmes deste ator: \"]\n",
    "            window.find_element(\"_entradas\").Update(values=entradas)\n",
    "            formLayout = [[sg.Text('De que ator deseja listar os filmes? ')],\n",
    "              [sg.Text(\"Ator: \", size=(20, 1)), sg.InputText(key='-CAS-')],\n",
    "              [sg.Button('Listar'), sg.Button('Cancelar')]]\n",
    "\n",
    "            wform = sg.Window('Listar por Ator', formLayout)\n",
    "            inputEvent,inputValues=wform.read(close=True)\n",
    "            wform.close()\n",
    "            \n",
    "            #Vão ser adicionados à lista Mycast todos os filmes do/a ator/atriz pretendido/a pelo utilizador\n",
    "            Mycast=[]\n",
    "            Mycast=ordenarCas(Myfilms,str(inputValues[\"-CAS-\"]))\n",
    "            if len(Mycast)==0:\n",
    "                #Caso não existam nenhum filme do/a ator/atriz\n",
    "                entradas.append(\"Não existem filmes desse ator na biblioteca (ಥ﹏ಥ)\")\n",
    "                window.find_element(\"_entradas\").Update(values=entradas)\n",
    "            else:\n",
    "                #Caso hajam, os filmes serão listados por ordem alfabética\n",
    "                entradas=Mycast[0][\"Filmes\"]\n",
    "                window.find_element(\"_entradas\").Update(values=entradas)\n",
    "                \n",
    "    elif event==\"Estatística\":\n",
    "        interfaceEst=[[sg.Button(\"Top 10 atores\"),sg.Button(\"Gráficos Géneros\"),sg.Button(\"Nº de Filmes\")]]\n",
    "        windowEst=sg.Window(\"Estatística\",interfaceEst)\n",
    "        escolha4,valores4=windowEst.read(close=True)\n",
    "        \n",
    "        if escolha4==\"Top 10 atores\":\n",
    "            ima2()\n",
    "            entradas=[\"Abrimos uma janela com o seu gráfico! :)\"]\n",
    "            window[\"_entradas\"].Update(values=entradas)\n",
    "        \n",
    "        elif escolha4==\"Gráficos Géneros\":\n",
    "            ima()\n",
    "            entradas=[\"Abrimos uma janela com o seu gráfico! (^o^;\"]\n",
    "            window[\"_entradas\"].Update(values=entradas)\n",
    "            \n",
    "        elif escolha4==\"Nº de Filmes\":\n",
    "            entradas=[\"Tem \"+str(len(Myfilms))+\" filmes na sua biblioteca\"]\n",
    "            window[\"_entradas\"].Update(values=entradas)\n",
    "    \n",
    "    else:\n",
    "        window[\"_entradas\"].Update(\"Erro: evento desconhecido :: \" + inputEvent)\n",
    "\n",
    "window.close()"
   ]
  },
  {
   "cell_type": "code",
   "execution_count": null,
   "metadata": {},
   "outputs": [],
   "source": []
  }
 ],
 "metadata": {
  "kernelspec": {
   "display_name": "Python 3 (ipykernel)",
   "language": "python",
   "name": "python3"
  },
  "language_info": {
   "codemirror_mode": {
    "name": "ipython",
    "version": 3
   },
   "file_extension": ".py",
   "mimetype": "text/x-python",
   "name": "python",
   "nbconvert_exporter": "python",
   "pygments_lexer": "ipython3",
   "version": "3.11.4"
  }
 },
 "nbformat": 4,
 "nbformat_minor": 4
}
